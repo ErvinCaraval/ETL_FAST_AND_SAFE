{
 "cells": [
  {
   "cell_type": "code",
   "execution_count": null,
   "id": "dff66e26",
   "metadata": {},
   "outputs": [],
   "source": [
    "# Instalación de librerías requeridas\n",
    "%pip install sqlalchemy\n",
    "%pip install psycopg2\n",
    "%pip install psycopg2-binary\n",
    "%pip install scikit-learn\n",
    "%pip install pandas"
   ]
  },
  {
   "cell_type": "code",
   "execution_count": 2,
   "id": "a1db65a3",
   "metadata": {},
   "outputs": [],
   "source": [
    "import pandas as pd\n",
    "import yaml\n",
    "from sqlalchemy import create_engine\n",
    "from sklearn.feature_extraction.text import TfidfVectorizer\n",
    "from sklearn.cluster import KMeans\n"
   ]
  },
  {
   "cell_type": "code",
   "execution_count": null,
   "id": "b2f228ce",
   "metadata": {},
   "outputs": [],
   "source": [
    "with open('../../configBD/config.yml', 'r') as f:\n",
    "    config      = yaml.safe_load(f)\n",
    "    config_etl  = config['bodega']\n",
    "    config_bd   = config['mensajeria']\n",
    "config_etl      # solo para verificar\n"
   ]
  },
  {
   "cell_type": "code",
   "execution_count": null,
   "id": "06694226",
   "metadata": {},
   "outputs": [],
   "source": [
    "url_bd = (\n",
    "    f\"{config_bd['driver']}://{config_bd['user']}:{config_bd['password']}@\"\n",
    "    f\"{config_bd['host']}:{config_bd['port']}/{config_bd['db']}\"\n",
    ")\n",
    "url_bd\n"
   ]
  },
  {
   "cell_type": "code",
   "execution_count": null,
   "id": "b8bac81a",
   "metadata": {},
   "outputs": [],
   "source": [
    "url_etl = (\n",
    "    f\"{config_etl['driver']}://{config_etl['user']}:{config_etl['password']}@\"\n",
    "    f\"{config_etl['host']}:{config_etl['port']}/{config_etl['db']}\"\n",
    ")\n",
    "url_etl\n"
   ]
  },
  {
   "cell_type": "code",
   "execution_count": 6,
   "id": "73fcbe6f",
   "metadata": {},
   "outputs": [],
   "source": [
    "cliente_bd  = create_engine(url_bd)   # fuente operativa\n",
    "cliente_etl = create_engine(url_etl)  # data-warehouse / ETL\n"
   ]
  },
  {
   "cell_type": "code",
   "execution_count": null,
   "id": "e4975f35",
   "metadata": {},
   "outputs": [],
   "source": [
    "dim_tiempo = pd.read_sql_table('dim_tiempo', url_etl)\n",
    "\n",
    "dim_tiempo = dim_tiempo.rename(columns={\"Año\":\"year\", \"Mes\":\"month\", \"Dia\":\"day\"})\n",
    "dim_tiempo['date'] = pd.to_datetime(dim_tiempo[['year','month','day']]).dt.date\n",
    "dim_tiempo.head()\n"
   ]
  },
  {
   "cell_type": "code",
   "execution_count": 8,
   "id": "e3a98a08",
   "metadata": {},
   "outputs": [],
   "source": [
    "novedades = pd.read_sql_table('mensajeria_novedadesservicio', url_bd)\n"
   ]
  },
  {
   "cell_type": "code",
   "execution_count": 9,
   "id": "3f9bd64a",
   "metadata": {},
   "outputs": [],
   "source": [
    "novedades['fecha_novedad'] = pd.to_datetime(novedades['fecha_novedad']).dt.date\n"
   ]
  },
  {
   "cell_type": "code",
   "execution_count": null,
   "id": "0ee0c2b5",
   "metadata": {},
   "outputs": [],
   "source": [
    "print(\"Rango de fechas en dim_tiempo:\", dim_tiempo['date'].min(), \"→\", dim_tiempo['date'].max())\n",
    "print(\"Rango de fechas en novedades:\", novedades['fecha_novedad'].min(), \"→\", novedades['fecha_novedad'].max())\n"
   ]
  },
  {
   "cell_type": "code",
   "execution_count": 11,
   "id": "d429d73f",
   "metadata": {},
   "outputs": [],
   "source": [
    "# lista corta de stop-words en español\n",
    "stop_words_spanish = [\n",
    "    'el','la','los','las','de','del','un','una','por','para','con','sin',\n",
    "    'y','o','en','que','no','se','a','al','me','lo','este','esto','estas'\n",
    "]\n",
    "\n",
    "# 1) limpiar texto\n",
    "novedades['descripcion_limpia'] = novedades['descripcion'].fillna('').str.lower()\n",
    "\n",
    "# 2) vectorizar TF-IDF\n",
    "tfidf = TfidfVectorizer(stop_words=stop_words_spanish, max_features=1000)\n",
    "X     = tfidf.fit_transform(novedades['descripcion_limpia'])\n",
    "\n",
    "# 3) K-means\n",
    "num_clusters = 5\n",
    "kmeans = KMeans(n_clusters=num_clusters, random_state=42, n_init='auto')\n",
    "novedades['cluster'] = kmeans.fit_predict(X)\n",
    "\n",
    "# 4) mapear cluster → categoría\n",
    "cluster_names = {0:'problemas_tecnicos', 1:'reprogramaciones', 2:'esperas',\n",
    "                 3:'entregas', 4:'otros'}\n",
    "novedades['categoria'] = novedades['cluster'].map(cluster_names)\n"
   ]
  },
  {
   "cell_type": "code",
   "execution_count": null,
   "id": "0fb666ab",
   "metadata": {},
   "outputs": [],
   "source": [
    "# 1) agrupar por fecha_novedad + categoría\n",
    "novedades_agrupadas = (\n",
    "    novedades.groupby(['fecha_novedad','categoria'])\n",
    "             .size()\n",
    "             .unstack(fill_value=0)\n",
    "             .reset_index()\n",
    ")\n",
    "\n",
    "# 2) añadir clave de tiempo\n",
    "novedades_agrupadas = novedades_agrupadas.merge(\n",
    "    dim_tiempo[['tiempo_key','date']],\n",
    "    left_on='fecha_novedad', right_on='date', how='left'\n",
    ").rename(columns={'tiempo_key':'TiempoKey'}).drop(columns=['date'])\n",
    "\n",
    "# 3) guarda en Data Warehouse\n",
    "novedades_agrupadas.to_sql('fact_novedades_clustering',\n",
    "                           cliente_etl,\n",
    "                           if_exists='replace',\n",
    "                           index=False)\n",
    "\n",
    "# 4) opcional: exportar CSV\n",
    "# novedades_agrupadas.to_csv('novedades_agrupadas_clustering.csv', index=False)\n",
    "\n",
    "novedades_agrupadas.head()\n"
   ]
  }
 ],
 "metadata": {
  "kernelspec": {
   "display_name": "venv",
   "language": "python",
   "name": "python3"
  },
  "language_info": {
   "codemirror_mode": {
    "name": "ipython",
    "version": 3
   },
   "file_extension": ".py",
   "mimetype": "text/x-python",
   "name": "python",
   "nbconvert_exporter": "python",
   "pygments_lexer": "ipython3",
   "version": "3.12.6"
  }
 },
 "nbformat": 4,
 "nbformat_minor": 5
}
