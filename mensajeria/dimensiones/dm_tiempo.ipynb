{
 "cells": [
  {
   "cell_type": "code",
   "execution_count": 1,
   "id": "initial_id",
   "metadata": {
    "ExecuteTime": {
     "end_time": "2024-11-10T04:50:53.068930Z",
     "start_time": "2024-11-10T04:50:53.055906Z"
    },
    "execution": {
     "iopub.execute_input": "2025-07-05T17:30:46.233141Z",
     "iopub.status.busy": "2025-07-05T17:30:46.231375Z",
     "iopub.status.idle": "2025-07-05T17:30:47.104109Z",
     "shell.execute_reply": "2025-07-05T17:30:47.102332Z"
    }
   },
   "outputs": [],
   "source": [
    "import pandas as pd\n",
    "from sqlalchemy import create_engine\n",
    "import yaml\n"
   ]
  },
  {
   "cell_type": "markdown",
   "id": "fd9ec8ad",
   "metadata": {},
   "source": [
    "Crear el DataFrame con cada hora del día (0 a 23)\n"
   ]
  },
  {
   "cell_type": "code",
   "execution_count": 2,
   "id": "0f529f47",
   "metadata": {
    "ExecuteTime": {
     "end_time": "2024-11-10T04:50:53.132479Z",
     "start_time": "2024-11-10T04:50:53.103850Z"
    },
    "execution": {
     "iopub.execute_input": "2025-07-05T17:30:47.109774Z",
     "iopub.status.busy": "2025-07-05T17:30:47.108863Z",
     "iopub.status.idle": "2025-07-05T17:30:47.174141Z",
     "shell.execute_reply": "2025-07-05T17:30:47.173120Z"
    }
   },
   "outputs": [
    {
     "data": {
      "text/html": [
       "<div>\n",
       "<style scoped>\n",
       "    .dataframe tbody tr th:only-of-type {\n",
       "        vertical-align: middle;\n",
       "    }\n",
       "\n",
       "    .dataframe tbody tr th {\n",
       "        vertical-align: top;\n",
       "    }\n",
       "\n",
       "    .dataframe thead th {\n",
       "        text-align: right;\n",
       "    }\n",
       "</style>\n",
       "<table border=\"1\" class=\"dataframe\">\n",
       "  <thead>\n",
       "    <tr style=\"text-align: right;\">\n",
       "      <th></th>\n",
       "      <th>tiempo_key</th>\n",
       "      <th>Año</th>\n",
       "      <th>Mes</th>\n",
       "      <th>Dia</th>\n",
       "      <th>Semana</th>\n",
       "      <th>Trimestre</th>\n",
       "    </tr>\n",
       "  </thead>\n",
       "  <tbody>\n",
       "    <tr>\n",
       "      <th>2023-01-01</th>\n",
       "      <td>1</td>\n",
       "      <td>2023</td>\n",
       "      <td>1</td>\n",
       "      <td>1</td>\n",
       "      <td>52</td>\n",
       "      <td>1</td>\n",
       "    </tr>\n",
       "    <tr>\n",
       "      <th>2023-01-02</th>\n",
       "      <td>2</td>\n",
       "      <td>2023</td>\n",
       "      <td>1</td>\n",
       "      <td>2</td>\n",
       "      <td>1</td>\n",
       "      <td>1</td>\n",
       "    </tr>\n",
       "    <tr>\n",
       "      <th>2023-01-03</th>\n",
       "      <td>3</td>\n",
       "      <td>2023</td>\n",
       "      <td>1</td>\n",
       "      <td>3</td>\n",
       "      <td>1</td>\n",
       "      <td>1</td>\n",
       "    </tr>\n",
       "    <tr>\n",
       "      <th>2023-01-04</th>\n",
       "      <td>4</td>\n",
       "      <td>2023</td>\n",
       "      <td>1</td>\n",
       "      <td>4</td>\n",
       "      <td>1</td>\n",
       "      <td>1</td>\n",
       "    </tr>\n",
       "    <tr>\n",
       "      <th>2023-01-05</th>\n",
       "      <td>5</td>\n",
       "      <td>2023</td>\n",
       "      <td>1</td>\n",
       "      <td>5</td>\n",
       "      <td>1</td>\n",
       "      <td>1</td>\n",
       "    </tr>\n",
       "    <tr>\n",
       "      <th>...</th>\n",
       "      <td>...</td>\n",
       "      <td>...</td>\n",
       "      <td>...</td>\n",
       "      <td>...</td>\n",
       "      <td>...</td>\n",
       "      <td>...</td>\n",
       "    </tr>\n",
       "    <tr>\n",
       "      <th>2024-12-27</th>\n",
       "      <td>727</td>\n",
       "      <td>2024</td>\n",
       "      <td>12</td>\n",
       "      <td>27</td>\n",
       "      <td>52</td>\n",
       "      <td>4</td>\n",
       "    </tr>\n",
       "    <tr>\n",
       "      <th>2024-12-28</th>\n",
       "      <td>728</td>\n",
       "      <td>2024</td>\n",
       "      <td>12</td>\n",
       "      <td>28</td>\n",
       "      <td>52</td>\n",
       "      <td>4</td>\n",
       "    </tr>\n",
       "    <tr>\n",
       "      <th>2024-12-29</th>\n",
       "      <td>729</td>\n",
       "      <td>2024</td>\n",
       "      <td>12</td>\n",
       "      <td>29</td>\n",
       "      <td>52</td>\n",
       "      <td>4</td>\n",
       "    </tr>\n",
       "    <tr>\n",
       "      <th>2024-12-30</th>\n",
       "      <td>730</td>\n",
       "      <td>2024</td>\n",
       "      <td>12</td>\n",
       "      <td>30</td>\n",
       "      <td>1</td>\n",
       "      <td>4</td>\n",
       "    </tr>\n",
       "    <tr>\n",
       "      <th>2024-12-31</th>\n",
       "      <td>731</td>\n",
       "      <td>2024</td>\n",
       "      <td>12</td>\n",
       "      <td>31</td>\n",
       "      <td>1</td>\n",
       "      <td>4</td>\n",
       "    </tr>\n",
       "  </tbody>\n",
       "</table>\n",
       "<p>731 rows × 6 columns</p>\n",
       "</div>"
      ],
      "text/plain": [
       "            tiempo_key   Año  Mes  Dia  Semana  Trimestre\n",
       "2023-01-01           1  2023    1    1      52          1\n",
       "2023-01-02           2  2023    1    2       1          1\n",
       "2023-01-03           3  2023    1    3       1          1\n",
       "2023-01-04           4  2023    1    4       1          1\n",
       "2023-01-05           5  2023    1    5       1          1\n",
       "...                ...   ...  ...  ...     ...        ...\n",
       "2024-12-27         727  2024   12   27      52          4\n",
       "2024-12-28         728  2024   12   28      52          4\n",
       "2024-12-29         729  2024   12   29      52          4\n",
       "2024-12-30         730  2024   12   30       1          4\n",
       "2024-12-31         731  2024   12   31       1          4\n",
       "\n",
       "[731 rows x 6 columns]"
      ]
     },
     "execution_count": 2,
     "metadata": {},
     "output_type": "execute_result"
    }
   ],
   "source": [
    "# Genera el rango de fechas en bloques más pequeños si es necesario\n",
    "fechas_2023 = pd.date_range(start=\"2023-01-01\", end=\"2023-12-31\", freq=\"D\")\n",
    "fechas_2024 = pd.date_range(start=\"2024-01-01\", end=\"2024-12-31\", freq=\"D\")\n",
    "fechas = fechas_2023.append(fechas_2024)\n",
    "\n",
    "# O usa un enfoque más eficiente para crear las columnas\n",
    "dim_tiempo = pd.DataFrame({\n",
    "    \"tiempo_key\": range(1, len(fechas)+1),  # PK incremental\n",
    "    \"Año\": fechas.year,\n",
    "    \"Mes\": fechas.month,\n",
    "    \"Dia\": fechas.day,\n",
    "    #\"Hora\": fechas.hour,\n",
    "    \"Semana\": fechas.isocalendar().week,\n",
    "    \"Trimestre\": fechas.quarter\n",
    "})\n",
    "\n",
    "dim_tiempo"
   ]
  },
  {
   "cell_type": "markdown",
   "id": "e6d421ad",
   "metadata": {},
   "source": [
    "Añadir una columna para el ID único de cada hora\n"
   ]
  },
  {
   "cell_type": "code",
   "execution_count": 3,
   "id": "23998efe",
   "metadata": {
    "ExecuteTime": {
     "end_time": "2024-11-10T04:50:53.192113Z",
     "start_time": "2024-11-10T04:50:53.188021Z"
    },
    "execution": {
     "iopub.execute_input": "2025-07-05T17:30:47.179115Z",
     "iopub.status.busy": "2025-07-05T17:30:47.178529Z",
     "iopub.status.idle": "2025-07-05T17:30:47.185451Z",
     "shell.execute_reply": "2025-07-05T17:30:47.184213Z"
    }
   },
   "outputs": [],
   "source": [
    "dim_tiempo[\"tiempo_key\"] = dim_tiempo.index\n"
   ]
  },
  {
   "cell_type": "markdown",
   "id": "fe9ebcee",
   "metadata": {},
   "source": [
    "Reorganizar columnas para que Tiempo_id sea la primera\n"
   ]
  },
  {
   "cell_type": "code",
   "execution_count": 4,
   "id": "77c37631",
   "metadata": {
    "ExecuteTime": {
     "end_time": "2024-11-10T04:50:53.252549Z",
     "start_time": "2024-11-10T04:50:53.248288Z"
    },
    "execution": {
     "iopub.execute_input": "2025-07-05T17:30:47.191768Z",
     "iopub.status.busy": "2025-07-05T17:30:47.190653Z",
     "iopub.status.idle": "2025-07-05T17:30:47.199342Z",
     "shell.execute_reply": "2025-07-05T17:30:47.198431Z"
    }
   },
   "outputs": [],
   "source": [
    "dim_tiempo = dim_tiempo[[\"tiempo_key\", \"Año\", \"Mes\", \"Dia\"]]"
   ]
  },
  {
   "cell_type": "markdown",
   "id": "9c6e4591",
   "metadata": {},
   "source": [
    "Cargar configuración de la base de datos desde el archivo YAML\n"
   ]
  },
  {
   "cell_type": "code",
   "execution_count": 5,
   "id": "ba1d8503",
   "metadata": {
    "ExecuteTime": {
     "end_time": "2024-11-10T04:50:53.298329Z",
     "start_time": "2024-11-10T04:50:53.292114Z"
    },
    "execution": {
     "iopub.execute_input": "2025-07-05T17:30:47.202901Z",
     "iopub.status.busy": "2025-07-05T17:30:47.202352Z",
     "iopub.status.idle": "2025-07-05T17:30:47.208535Z",
     "shell.execute_reply": "2025-07-05T17:30:47.207795Z"
    }
   },
   "outputs": [],
   "source": [
    "with open('../../configBD/config.yml', 'r') as f:\n",
    "    config = yaml.safe_load(f)\n",
    "    config_etl = config['bodega']"
   ]
  },
  {
   "cell_type": "markdown",
   "id": "990b52f5",
   "metadata": {},
   "source": [
    "Construir la URL de conexión a la base de datos\n"
   ]
  },
  {
   "cell_type": "code",
   "execution_count": 6,
   "id": "4cc0396d",
   "metadata": {
    "ExecuteTime": {
     "end_time": "2024-11-10T04:50:53.367737Z",
     "start_time": "2024-11-10T04:50:53.365430Z"
    },
    "execution": {
     "iopub.execute_input": "2025-07-05T17:30:47.211854Z",
     "iopub.status.busy": "2025-07-05T17:30:47.211357Z",
     "iopub.status.idle": "2025-07-05T17:30:47.216090Z",
     "shell.execute_reply": "2025-07-05T17:30:47.215425Z"
    }
   },
   "outputs": [],
   "source": [
    "url_etl = (f\"{config_etl['driver']}://{config_etl['user']}:{config_etl['password']}@{config_etl['host']}:\"\n",
    "           f\"{config_etl['port']}/{config_etl['db']}\")"
   ]
  },
  {
   "cell_type": "markdown",
   "id": "9768d7c7",
   "metadata": {},
   "source": [
    "Crear el motor de conexión a la base de datos\n"
   ]
  },
  {
   "cell_type": "code",
   "execution_count": 7,
   "id": "46499e61",
   "metadata": {
    "ExecuteTime": {
     "end_time": "2024-11-10T04:50:53.385175Z",
     "start_time": "2024-11-10T04:50:53.379786Z"
    },
    "execution": {
     "iopub.execute_input": "2025-07-05T17:30:47.219463Z",
     "iopub.status.busy": "2025-07-05T17:30:47.219015Z",
     "iopub.status.idle": "2025-07-05T17:30:47.299996Z",
     "shell.execute_reply": "2025-07-05T17:30:47.299054Z"
    }
   },
   "outputs": [],
   "source": [
    "cliente_etl = create_engine(url_etl)"
   ]
  },
  {
   "cell_type": "markdown",
   "id": "2541c59c",
   "metadata": {},
   "source": [
    "Guardar el DataFrame en la base de datos como la tabla dim_tiempo\n"
   ]
  },
  {
   "cell_type": "code",
   "execution_count": 8,
   "id": "f280bd33",
   "metadata": {
    "ExecuteTime": {
     "end_time": "2024-11-10T04:50:53.726375Z",
     "start_time": "2024-11-10T04:50:53.400082Z"
    },
    "execution": {
     "iopub.execute_input": "2025-07-05T17:30:47.304233Z",
     "iopub.status.busy": "2025-07-05T17:30:47.303385Z",
     "iopub.status.idle": "2025-07-05T17:30:50.008670Z",
     "shell.execute_reply": "2025-07-05T17:30:50.005529Z"
    }
   },
   "outputs": [
    {
     "data": {
      "text/plain": [
       "731"
      ]
     },
     "execution_count": 8,
     "metadata": {},
     "output_type": "execute_result"
    }
   ],
   "source": [
    "dim_tiempo.to_sql('dim_tiempo', cliente_etl, if_exists='replace', index=False, index_label='Tiempo_id')\n"
   ]
  },
  {
   "cell_type": "code",
   "execution_count": 9,
   "id": "fd02a2f017a94cf",
   "metadata": {
    "ExecuteTime": {
     "end_time": "2024-11-10T04:50:53.755152Z",
     "start_time": "2024-11-10T04:50:53.747731Z"
    },
    "execution": {
     "iopub.execute_input": "2025-07-05T17:30:50.019327Z",
     "iopub.status.busy": "2025-07-05T17:30:50.016788Z",
     "iopub.status.idle": "2025-07-05T17:30:50.033790Z",
     "shell.execute_reply": "2025-07-05T17:30:50.032944Z"
    }
   },
   "outputs": [
    {
     "data": {
      "text/html": [
       "<div>\n",
       "<style scoped>\n",
       "    .dataframe tbody tr th:only-of-type {\n",
       "        vertical-align: middle;\n",
       "    }\n",
       "\n",
       "    .dataframe tbody tr th {\n",
       "        vertical-align: top;\n",
       "    }\n",
       "\n",
       "    .dataframe thead th {\n",
       "        text-align: right;\n",
       "    }\n",
       "</style>\n",
       "<table border=\"1\" class=\"dataframe\">\n",
       "  <thead>\n",
       "    <tr style=\"text-align: right;\">\n",
       "      <th></th>\n",
       "      <th>tiempo_key</th>\n",
       "      <th>Año</th>\n",
       "      <th>Mes</th>\n",
       "      <th>Dia</th>\n",
       "    </tr>\n",
       "  </thead>\n",
       "  <tbody>\n",
       "    <tr>\n",
       "      <th>2023-01-01</th>\n",
       "      <td>2023-01-01</td>\n",
       "      <td>2023</td>\n",
       "      <td>1</td>\n",
       "      <td>1</td>\n",
       "    </tr>\n",
       "    <tr>\n",
       "      <th>2023-01-02</th>\n",
       "      <td>2023-01-02</td>\n",
       "      <td>2023</td>\n",
       "      <td>1</td>\n",
       "      <td>2</td>\n",
       "    </tr>\n",
       "    <tr>\n",
       "      <th>2023-01-03</th>\n",
       "      <td>2023-01-03</td>\n",
       "      <td>2023</td>\n",
       "      <td>1</td>\n",
       "      <td>3</td>\n",
       "    </tr>\n",
       "    <tr>\n",
       "      <th>2023-01-04</th>\n",
       "      <td>2023-01-04</td>\n",
       "      <td>2023</td>\n",
       "      <td>1</td>\n",
       "      <td>4</td>\n",
       "    </tr>\n",
       "    <tr>\n",
       "      <th>2023-01-05</th>\n",
       "      <td>2023-01-05</td>\n",
       "      <td>2023</td>\n",
       "      <td>1</td>\n",
       "      <td>5</td>\n",
       "    </tr>\n",
       "    <tr>\n",
       "      <th>...</th>\n",
       "      <td>...</td>\n",
       "      <td>...</td>\n",
       "      <td>...</td>\n",
       "      <td>...</td>\n",
       "    </tr>\n",
       "    <tr>\n",
       "      <th>2024-12-27</th>\n",
       "      <td>2024-12-27</td>\n",
       "      <td>2024</td>\n",
       "      <td>12</td>\n",
       "      <td>27</td>\n",
       "    </tr>\n",
       "    <tr>\n",
       "      <th>2024-12-28</th>\n",
       "      <td>2024-12-28</td>\n",
       "      <td>2024</td>\n",
       "      <td>12</td>\n",
       "      <td>28</td>\n",
       "    </tr>\n",
       "    <tr>\n",
       "      <th>2024-12-29</th>\n",
       "      <td>2024-12-29</td>\n",
       "      <td>2024</td>\n",
       "      <td>12</td>\n",
       "      <td>29</td>\n",
       "    </tr>\n",
       "    <tr>\n",
       "      <th>2024-12-30</th>\n",
       "      <td>2024-12-30</td>\n",
       "      <td>2024</td>\n",
       "      <td>12</td>\n",
       "      <td>30</td>\n",
       "    </tr>\n",
       "    <tr>\n",
       "      <th>2024-12-31</th>\n",
       "      <td>2024-12-31</td>\n",
       "      <td>2024</td>\n",
       "      <td>12</td>\n",
       "      <td>31</td>\n",
       "    </tr>\n",
       "  </tbody>\n",
       "</table>\n",
       "<p>731 rows × 4 columns</p>\n",
       "</div>"
      ],
      "text/plain": [
       "           tiempo_key   Año  Mes  Dia\n",
       "2023-01-01 2023-01-01  2023    1    1\n",
       "2023-01-02 2023-01-02  2023    1    2\n",
       "2023-01-03 2023-01-03  2023    1    3\n",
       "2023-01-04 2023-01-04  2023    1    4\n",
       "2023-01-05 2023-01-05  2023    1    5\n",
       "...               ...   ...  ...  ...\n",
       "2024-12-27 2024-12-27  2024   12   27\n",
       "2024-12-28 2024-12-28  2024   12   28\n",
       "2024-12-29 2024-12-29  2024   12   29\n",
       "2024-12-30 2024-12-30  2024   12   30\n",
       "2024-12-31 2024-12-31  2024   12   31\n",
       "\n",
       "[731 rows x 4 columns]"
      ]
     },
     "execution_count": 9,
     "metadata": {},
     "output_type": "execute_result"
    }
   ],
   "source": [
    "dim_tiempo"
   ]
  }
 ],
 "metadata": {
  "kernelspec": {
   "display_name": "Python 3",
   "language": "python",
   "name": "python3"
  },
  "language_info": {
   "codemirror_mode": {
    "name": "ipython",
    "version": 3
   },
   "file_extension": ".py",
   "mimetype": "text/x-python",
   "name": "python",
   "nbconvert_exporter": "python",
   "pygments_lexer": "ipython3",
   "version": "3.13.5"
  }
 },
 "nbformat": 4,
 "nbformat_minor": 5
}
