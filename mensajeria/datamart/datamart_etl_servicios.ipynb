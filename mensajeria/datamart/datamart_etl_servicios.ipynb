{
 "cells": [
  {
   "cell_type": "markdown",
   "id": "9acf879e",
   "metadata": {},
   "source": [
    "# 📊 DataMart Analítico - Resumen de Consultas ETL"
   ]
  },
  {
   "cell_type": "markdown",
   "id": "f60d5c3b",
   "metadata": {},
   "source": [
    "# Instalación de librerías necesarias (solo ejecutar una vez)"
   ]
  },
  {
   "cell_type": "code",
   "execution_count": 1,
   "id": "93148189",
   "metadata": {
    "execution": {
     "iopub.execute_input": "2025-07-23T16:44:30.132901Z",
     "iopub.status.busy": "2025-07-23T16:44:30.132691Z",
     "iopub.status.idle": "2025-07-23T16:44:30.496230Z",
     "shell.execute_reply": "2025-07-23T16:44:30.495571Z"
    }
   },
   "outputs": [],
   "source": [
    "# ⚠️ Instalación solo manual desde Jupyter si hace falta\n",
    "# !pip install sqlalchemy\n",
    "# !pip install psycopg2-binary\n",
    "# !pip install pandas\n",
    "# !pip install pyyaml\n",
    "\n",
    "import pandas as pd\n",
    "import yaml\n",
    "from sqlalchemy import create_engine"
   ]
  },
  {
   "cell_type": "markdown",
   "id": "f2b4d2e7",
   "metadata": {},
   "source": [
    "# ------------------ Configuración ------------------"
   ]
  },
  {
   "cell_type": "code",
   "execution_count": 2,
   "id": "8c9c1c1a",
   "metadata": {
    "execution": {
     "iopub.execute_input": "2025-07-23T16:44:30.498741Z",
     "iopub.status.busy": "2025-07-23T16:44:30.498451Z",
     "iopub.status.idle": "2025-07-23T16:44:30.503146Z",
     "shell.execute_reply": "2025-07-23T16:44:30.502632Z"
    }
   },
   "outputs": [],
   "source": [
    "with open('../../configBD/config.yml', 'r') as f:\n",
    "    cfg = yaml.safe_load(f)\n",
    "    cfg_etl = cfg['bodega']\n",
    "    cfg_bd = cfg['mensajeria']"
   ]
  },
  {
   "cell_type": "markdown",
   "id": "bd686ac7",
   "metadata": {},
   "source": [
    "# Crear conexiones a bases de datos"
   ]
  },
  {
   "cell_type": "code",
   "execution_count": 3,
   "id": "2dfa0e50",
   "metadata": {
    "execution": {
     "iopub.execute_input": "2025-07-23T16:44:30.505027Z",
     "iopub.status.busy": "2025-07-23T16:44:30.504823Z",
     "iopub.status.idle": "2025-07-23T16:44:30.542718Z",
     "shell.execute_reply": "2025-07-23T16:44:30.542115Z"
    }
   },
   "outputs": [],
   "source": [
    "url_etl = f\"{cfg_etl['driver']}://{cfg_etl['user']}:{cfg_etl['password']}@{cfg_etl['host']}:{cfg_etl['port']}/{cfg_etl['db']}\"\n",
    "cliente_etl = create_engine(url_etl)"
   ]
  },
  {
   "cell_type": "markdown",
   "id": "8346f01c",
   "metadata": {},
   "source": [
    "# ------------------ Función auxiliar ------------------"
   ]
  },
  {
   "cell_type": "code",
   "execution_count": 4,
   "id": "9f9f32c1",
   "metadata": {
    "execution": {
     "iopub.execute_input": "2025-07-23T16:44:30.545123Z",
     "iopub.status.busy": "2025-07-23T16:44:30.544835Z",
     "iopub.status.idle": "2025-07-23T16:44:30.548435Z",
     "shell.execute_reply": "2025-07-23T16:44:30.547876Z"
    }
   },
   "outputs": [],
   "source": [
    "def guardar_datamart(nombre_tabla, query, engine):\n",
    "    print(f\"Creando DataMart: {nombre_tabla}\")\n",
    "    df = pd.read_sql_query(query, engine)\n",
    "    df.to_sql(nombre_tabla, engine, index=False, if_exists='replace')\n",
    "    print(f\"✔️ {nombre_tabla} guardado correctamente ({len(df)} filas).\")"
   ]
  },
  {
   "cell_type": "markdown",
   "id": "f1b30af7",
   "metadata": {},
   "source": [
    "\n",
    "Este notebook genera tablas agregadas (DataMarts) a partir de las consultas más frecuentes extraídas del proceso ETL.\n",
    "Estas tablas permiten análisis más rápidos al evitar cálculos repetidos sobre las tablas de hechos principales (`fact_servicios` y `fact_novedades`).\n",
    "\n",
    "**Fecha de generación:** 2025-07-04 04:33:07\n"
   ]
  },
  {
   "cell_type": "markdown",
   "id": "a13976ca",
   "metadata": {},
   "source": [
    "### 🧮 resumen_servicios_por_mes"
   ]
  },
  {
   "cell_type": "code",
   "execution_count": 5,
   "id": "d751d4f4",
   "metadata": {
    "execution": {
     "iopub.execute_input": "2025-07-23T16:44:30.550571Z",
     "iopub.status.busy": "2025-07-23T16:44:30.550275Z",
     "iopub.status.idle": "2025-07-23T16:44:33.146394Z",
     "shell.execute_reply": "2025-07-23T16:44:33.145877Z"
    }
   },
   "outputs": [
    {
     "name": "stdout",
     "output_type": "stream",
     "text": [
      "Creando DataMart: resumen_servicios_por_mes\n"
     ]
    },
    {
     "name": "stdout",
     "output_type": "stream",
     "text": [
      "✔️ resumen_servicios_por_mes guardado correctamente (12 filas).\n"
     ]
    }
   ],
   "source": [
    "query = \"\"\"\n",
    "SELECT \"Año\", \"Mes\", COUNT(*) AS total_servicios\n",
    "FROM fact_servicios\n",
    "WHERE \"EsFinal\" = TRUE\n",
    "GROUP BY \"Año\", \"Mes\"\n",
    "ORDER BY total_servicios DESC\n",
    "\"\"\"\n",
    "guardar_datamart(\"resumen_servicios_por_mes\", query, cliente_etl)\n"
   ]
  },
  {
   "cell_type": "markdown",
   "id": "5d1da511",
   "metadata": {},
   "source": [
    "### 🧮 resumen_servicios_por_dia_semana"
   ]
  },
  {
   "cell_type": "code",
   "execution_count": 6,
   "id": "9f50ff0d",
   "metadata": {
    "execution": {
     "iopub.execute_input": "2025-07-23T16:44:33.148397Z",
     "iopub.status.busy": "2025-07-23T16:44:33.148189Z",
     "iopub.status.idle": "2025-07-23T16:44:33.552587Z",
     "shell.execute_reply": "2025-07-23T16:44:33.551987Z"
    }
   },
   "outputs": [
    {
     "name": "stdout",
     "output_type": "stream",
     "text": [
      "Creando DataMart: resumen_servicios_por_dia_semana\n"
     ]
    },
    {
     "name": "stdout",
     "output_type": "stream",
     "text": [
      "✔️ resumen_servicios_por_dia_semana guardado correctamente (7 filas).\n"
     ]
    }
   ],
   "source": [
    "query = \"\"\"\n",
    "SELECT \"DiaSemana\", COUNT(*) AS total_servicios\n",
    "FROM fact_servicios\n",
    "WHERE \"EsFinal\" = TRUE\n",
    "GROUP BY \"DiaSemana\"\n",
    "ORDER BY total_servicios DESC\n",
    "\"\"\"\n",
    "guardar_datamart(\"resumen_servicios_por_dia_semana\", query, cliente_etl)\n"
   ]
  },
  {
   "cell_type": "markdown",
   "id": "e3a77eb5",
   "metadata": {},
   "source": [
    "### 🧮 resumen_actividad_por_hora"
   ]
  },
  {
   "cell_type": "code",
   "execution_count": 7,
   "id": "0ff109ee",
   "metadata": {
    "execution": {
     "iopub.execute_input": "2025-07-23T16:44:33.555160Z",
     "iopub.status.busy": "2025-07-23T16:44:33.554735Z",
     "iopub.status.idle": "2025-07-23T16:44:33.964748Z",
     "shell.execute_reply": "2025-07-23T16:44:33.963888Z"
    }
   },
   "outputs": [
    {
     "name": "stdout",
     "output_type": "stream",
     "text": [
      "Creando DataMart: resumen_actividad_por_hora\n"
     ]
    },
    {
     "name": "stdout",
     "output_type": "stream",
     "text": [
      "✔️ resumen_actividad_por_hora guardado correctamente (24 filas).\n"
     ]
    }
   ],
   "source": [
    "query = \"\"\"\n",
    "SELECT \"Hora\", COUNT(*) AS total_servicios\n",
    "FROM fact_servicios\n",
    "WHERE \"EsFinal\" = TRUE\n",
    "GROUP BY \"Hora\"\n",
    "ORDER BY total_servicios DESC\n",
    "\"\"\"\n",
    "guardar_datamart(\"resumen_actividad_por_hora\", query, cliente_etl)\n"
   ]
  },
  {
   "cell_type": "markdown",
   "id": "2a6ee2f3",
   "metadata": {},
   "source": [
    "### 🧮 servicios_por_cliente_mes"
   ]
  },
  {
   "cell_type": "code",
   "execution_count": 8,
   "id": "9b3ca808",
   "metadata": {
    "execution": {
     "iopub.execute_input": "2025-07-23T16:44:33.967569Z",
     "iopub.status.busy": "2025-07-23T16:44:33.967276Z",
     "iopub.status.idle": "2025-07-23T16:44:34.702583Z",
     "shell.execute_reply": "2025-07-23T16:44:34.701888Z"
    }
   },
   "outputs": [
    {
     "name": "stdout",
     "output_type": "stream",
     "text": [
      "Creando DataMart: servicios_por_cliente_mes\n"
     ]
    },
    {
     "name": "stdout",
     "output_type": "stream",
     "text": [
      "✔️ servicios_por_cliente_mes guardado correctamente (102 filas).\n"
     ]
    }
   ],
   "source": [
    "query = \"\"\"\n",
    "SELECT \n",
    "    fs.\"ClienteKey\",\n",
    "    dc.\"nombre\",\n",
    "    fs.\"Año\",\n",
    "    fs.\"Mes\",\n",
    "    COUNT(*) AS total_servicios\n",
    "FROM fact_servicios fs\n",
    "INNER JOIN dim_cliente dc\n",
    "    ON fs.\"ClienteKey\" = dc.\"ClienteKey\"\n",
    "WHERE fs.\"EsFinal\" = TRUE\n",
    "GROUP BY fs.\"ClienteKey\", dc.\"nombre\", fs.\"Año\", fs.\"Mes\"\n",
    "ORDER BY total_servicios DESC\n",
    "\"\"\"\n",
    "guardar_datamart(\"servicios_por_cliente_mes\", query, cliente_etl)\n",
    "\n"
   ]
  },
  {
   "cell_type": "markdown",
   "id": "0ecffc16",
   "metadata": {},
   "source": [
    "### 🧮 eficiencia_mensajeros"
   ]
  },
  {
   "cell_type": "code",
   "execution_count": 9,
   "id": "2eaee18d",
   "metadata": {
    "execution": {
     "iopub.execute_input": "2025-07-23T16:44:34.704942Z",
     "iopub.status.busy": "2025-07-23T16:44:34.704706Z",
     "iopub.status.idle": "2025-07-23T16:44:35.230722Z",
     "shell.execute_reply": "2025-07-23T16:44:35.230197Z"
    }
   },
   "outputs": [
    {
     "name": "stdout",
     "output_type": "stream",
     "text": [
      "Creando DataMart: eficiencia_mensajeros\n"
     ]
    },
    {
     "name": "stdout",
     "output_type": "stream",
     "text": [
      "✔️ eficiencia_mensajeros guardado correctamente (45 filas).\n"
     ]
    }
   ],
   "source": [
    "query = \"\"\"\n",
    "WITH ranked_mensajeros AS (\n",
    "  SELECT \n",
    "    \"MensajeroKey\",\n",
    "    COUNT(*) AS servicios_realizados,\n",
    "    AVG(\"Duracion_Total_Min\") AS duracion_promedio_min,\n",
    "    AVG(\"Eficiencia_Mensajero\") AS eficiencia_promedio,\n",
    "    ROW_NUMBER() OVER (\n",
    "      PARTITION BY AVG(\"Duracion_Total_Min\")\n",
    "      ORDER BY AVG(\"Eficiencia_Mensajero\") ASC\n",
    "    ) AS rn\n",
    "  FROM fact_servicios\n",
    "  WHERE \"EsFinal\" = TRUE\n",
    "  GROUP BY \"MensajeroKey\"\n",
    ")\n",
    "SELECT \n",
    "  \"MensajeroKey\",\n",
    "  servicios_realizados,\n",
    "  duracion_promedio_min,\n",
    "  eficiencia_promedio\n",
    "FROM ranked_mensajeros\n",
    "WHERE rn = 1\n",
    "ORDER BY servicios_realizados DESC, eficiencia_promedio DESC;\n",
    "\"\"\"\n",
    "guardar_datamart(\"eficiencia_mensajeros\", query, cliente_etl)\n"
   ]
  },
  {
   "cell_type": "markdown",
   "id": "eb25ddb4",
   "metadata": {},
   "source": [
    "### 🧮 actividad_por_sede_cliente"
   ]
  },
  {
   "cell_type": "code",
   "execution_count": 10,
   "id": "fcc20020",
   "metadata": {
    "execution": {
     "iopub.execute_input": "2025-07-23T16:44:35.232700Z",
     "iopub.status.busy": "2025-07-23T16:44:35.232502Z",
     "iopub.status.idle": "2025-07-23T16:44:35.991866Z",
     "shell.execute_reply": "2025-07-23T16:44:35.991185Z"
    }
   },
   "outputs": [
    {
     "name": "stdout",
     "output_type": "stream",
     "text": [
      "Creando DataMart: actividad_por_sede_cliente\n"
     ]
    },
    {
     "name": "stdout",
     "output_type": "stream",
     "text": [
      "✔️ actividad_por_sede_cliente guardado correctamente (55 filas).\n"
     ]
    }
   ],
   "source": [
    "query = \"\"\"\n",
    "\tSELECT \n",
    "    fs.\"ClienteKey\",\n",
    "    dc.\"nombre\" AS nombre_cliente,\n",
    "    ds.\"nombre\" AS nombre_sede_origen,\n",
    "    COUNT(*) AS total_servicios\n",
    "FROM fact_servicios fs\n",
    "INNER JOIN dim_cliente dc\n",
    "    ON fs.\"ClienteKey\" = dc.\"ClienteKey\"\n",
    "INNER JOIN dim_sede ds\n",
    "    ON fs.\"SedeOrigenKey\" = ds.\"SedeKey\"\n",
    "WHERE \"EsFinal\" = TRUE\n",
    "GROUP BY fs.\"ClienteKey\", dc.\"nombre\", fs.\"SedeOrigenKey\", ds.\"nombre\"\n",
    "ORDER BY total_servicios DESC;\n",
    "\"\"\"\n",
    "guardar_datamart(\"actividad_por_sede_cliente\", query, cliente_etl)\n"
   ]
  },
  {
   "cell_type": "markdown",
   "id": "d023e23b",
   "metadata": {},
   "source": [
    "### 🧮 duracion_promedio_servicio"
   ]
  },
  {
   "cell_type": "code",
   "execution_count": 11,
   "id": "9e82d099",
   "metadata": {
    "execution": {
     "iopub.execute_input": "2025-07-23T16:44:35.994269Z",
     "iopub.status.busy": "2025-07-23T16:44:35.994030Z",
     "iopub.status.idle": "2025-07-23T16:44:36.452994Z",
     "shell.execute_reply": "2025-07-23T16:44:36.452172Z"
    }
   },
   "outputs": [
    {
     "name": "stdout",
     "output_type": "stream",
     "text": [
      "Creando DataMart: duracion_promedio_servicio\n"
     ]
    },
    {
     "name": "stdout",
     "output_type": "stream",
     "text": [
      "✔️ duracion_promedio_servicio guardado correctamente (1 filas).\n"
     ]
    }
   ],
   "source": [
    "query = \"\"\"\n",
    "SELECT \n",
    "    -- Promedio total en minutos (con 2 decimales)\n",
    "    ROUND(\n",
    "        CAST(\n",
    "            AVG(\"Duracion_Asignacion_Min\") + \n",
    "            AVG(\"Duracion_Recogida_Min\") + \n",
    "            AVG(\"Duracion_Entrega_Min\") + \n",
    "            AVG(\"Duracion_Cierre_Min\")\n",
    "        AS NUMERIC), \n",
    "    2) AS tiempo_promedio_min,\n",
    "\n",
    "    -- Parte entera en horas\n",
    "    FLOOR((\n",
    "        AVG(\"Duracion_Asignacion_Min\") + \n",
    "        AVG(\"Duracion_Recogida_Min\") + \n",
    "        AVG(\"Duracion_Entrega_Min\") + \n",
    "        AVG(\"Duracion_Cierre_Min\")\n",
    "    ) / 60) AS horas,\n",
    "\n",
    "    -- Parte restante en minutos (módulo 60)\n",
    "    ROUND(\n",
    "        MOD(\n",
    "            CAST(\n",
    "                AVG(\"Duracion_Asignacion_Min\") + \n",
    "                AVG(\"Duracion_Recogida_Min\") + \n",
    "                AVG(\"Duracion_Entrega_Min\") + \n",
    "                AVG(\"Duracion_Cierre_Min\")\n",
    "            AS NUMERIC), \n",
    "        60)\n",
    "    ) AS minutos,\n",
    "\n",
    "    -- Formato como texto: \"X horas y Y minutos\"\n",
    "    CONCAT(\n",
    "        FLOOR((\n",
    "            AVG(\"Duracion_Asignacion_Min\") + \n",
    "            AVG(\"Duracion_Recogida_Min\") + \n",
    "            AVG(\"Duracion_Entrega_Min\") + \n",
    "            AVG(\"Duracion_Cierre_Min\")\n",
    "        ) / 60), ' horas y ',\n",
    "        ROUND(\n",
    "            MOD(\n",
    "                CAST(\n",
    "                    AVG(\"Duracion_Asignacion_Min\") + \n",
    "                    AVG(\"Duracion_Recogida_Min\") + \n",
    "                    AVG(\"Duracion_Entrega_Min\") + \n",
    "                    AVG(\"Duracion_Cierre_Min\")\n",
    "                AS NUMERIC), \n",
    "            60)\n",
    "        ), ' minutos'\n",
    "    ) AS tiempo_promedio_formateado\n",
    "\n",
    "FROM fact_servicios\n",
    "WHERE \"EsFinal\" = TRUE;\n",
    "\"\"\"\n",
    "guardar_datamart(\"duracion_promedio_servicio\", query, cliente_etl)"
   ]
  },
  {
   "cell_type": "markdown",
   "id": "f43e06c5",
   "metadata": {},
   "source": [
    "### 🧮 duracion_promedio_por_fase"
   ]
  },
  {
   "cell_type": "code",
   "execution_count": 12,
   "id": "407711db",
   "metadata": {
    "execution": {
     "iopub.execute_input": "2025-07-23T16:44:36.455798Z",
     "iopub.status.busy": "2025-07-23T16:44:36.455517Z",
     "iopub.status.idle": "2025-07-23T16:44:36.942945Z",
     "shell.execute_reply": "2025-07-23T16:44:36.942217Z"
    }
   },
   "outputs": [
    {
     "name": "stdout",
     "output_type": "stream",
     "text": [
      "Creando DataMart: duracion_promedio_por_fase\n"
     ]
    },
    {
     "name": "stdout",
     "output_type": "stream",
     "text": [
      "✔️ duracion_promedio_por_fase guardado correctamente (1 filas).\n"
     ]
    }
   ],
   "source": [
    "query = \"\"\"\n",
    "SELECT \n",
    "    AVG(\"Duracion_Asignacion_Min\") AS asignacion_promedio_min,\n",
    "    AVG(\"Duracion_Recogida_Min\") AS recogida_promedio_min,\n",
    "    AVG(\"Duracion_Entrega_Min\") AS entrega_promedio_min,\n",
    "    AVG(\"Duracion_Cierre_Min\") AS cierre_promedio_min\n",
    "FROM fact_servicios\n",
    "WHERE \"EsFinal\" = TRUE;\n",
    "\"\"\"\n",
    "guardar_datamart(\"duracion_promedio_por_fase\", query, cliente_etl)"
   ]
  },
  {
   "cell_type": "markdown",
   "id": "84d00d6a",
   "metadata": {},
   "source": [
    "### 🧮 novedades_por_tipo"
   ]
  },
  {
   "cell_type": "code",
   "execution_count": 13,
   "id": "4f7f49de",
   "metadata": {
    "execution": {
     "iopub.execute_input": "2025-07-23T16:44:36.945483Z",
     "iopub.status.busy": "2025-07-23T16:44:36.945029Z",
     "iopub.status.idle": "2025-07-23T16:44:36.986615Z",
     "shell.execute_reply": "2025-07-23T16:44:36.985762Z"
    }
   },
   "outputs": [
    {
     "name": "stdout",
     "output_type": "stream",
     "text": [
      "Creando DataMart: novedades_por_tipo\n",
      "✔️ novedades_por_tipo guardado correctamente (2 filas).\n"
     ]
    }
   ],
   "source": [
    "query = \"\"\"\n",
    "SELECT \n",
    "    \"TipoNovedad\" AS \"Tipo de Novedad\",\n",
    "    \"Gravedad\" AS \"Nivel de Gravedad\",\n",
    "    COUNT(*) AS \"Total de Ocurrencias\"\n",
    "FROM fact_novedades\n",
    "GROUP BY \"TipoNovedad\", \"Gravedad\"\n",
    "ORDER BY \"Total de Ocurrencias\" DESC;\n",
    "\"\"\"\n",
    "guardar_datamart(\"novedades_por_tipo\", query, cliente_etl)"
   ]
  }
 ],
 "metadata": {
  "kernelspec": {
   "display_name": "Python 3",
   "language": "python",
   "name": "python3"
  },
  "language_info": {
   "codemirror_mode": {
    "name": "ipython",
    "version": 3
   },
   "file_extension": ".py",
   "mimetype": "text/x-python",
   "name": "python",
   "nbconvert_exporter": "python",
   "pygments_lexer": "ipython3",
   "version": "3.10.12"
  }
 },
 "nbformat": 4,
 "nbformat_minor": 5
}
