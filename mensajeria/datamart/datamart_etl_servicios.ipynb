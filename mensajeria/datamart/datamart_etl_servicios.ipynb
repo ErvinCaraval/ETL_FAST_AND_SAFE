{
 "cells": [
  {
   "cell_type": "markdown",
   "id": "9acf879e",
   "metadata": {},
   "source": [
    "# 📊 DataMart Analítico - Resumen de Consultas ETL"
   ]
  },
  {
   "cell_type": "markdown",
   "id": "f60d5c3b",
   "metadata": {},
   "source": [
    "# Instalación de librerías necesarias (solo ejecutar una vez)"
   ]
  },
  {
   "cell_type": "code",
   "execution_count": 1,
   "id": "93148189",
   "metadata": {
    "execution": {
     "iopub.execute_input": "2025-07-04T08:28:30.754334Z",
     "iopub.status.busy": "2025-07-04T08:28:30.754117Z",
     "iopub.status.idle": "2025-07-04T08:28:31.142755Z",
     "shell.execute_reply": "2025-07-04T08:28:31.142065Z"
    }
   },
   "outputs": [],
   "source": [
    "# ⚠️ Instalación solo manual desde Jupyter si hace falta\n",
    "# !pip install sqlalchemy\n",
    "# !pip install psycopg2-binary\n",
    "# !pip install pandas\n",
    "# !pip install pyyaml\n",
    "\n",
    "import pandas as pd\n",
    "import yaml\n",
    "from sqlalchemy import create_engine"
   ]
  },
  {
   "cell_type": "markdown",
   "id": "f2b4d2e7",
   "metadata": {},
   "source": [
    "# ------------------ Configuración ------------------"
   ]
  },
  {
   "cell_type": "code",
   "execution_count": 2,
   "id": "8c9c1c1a",
   "metadata": {
    "execution": {
     "iopub.execute_input": "2025-07-04T08:28:31.145437Z",
     "iopub.status.busy": "2025-07-04T08:28:31.144862Z",
     "iopub.status.idle": "2025-07-04T08:28:31.149753Z",
     "shell.execute_reply": "2025-07-04T08:28:31.149070Z"
    }
   },
   "outputs": [],
   "source": [
    "with open('../../configBD/config.yml', 'r') as f:\n",
    "    cfg = yaml.safe_load(f)\n",
    "    cfg_etl = cfg['bodega']\n",
    "    cfg_bd = cfg['mensajeria']"
   ]
  },
  {
   "cell_type": "markdown",
   "id": "bd686ac7",
   "metadata": {},
   "source": [
    "# Crear conexiones a bases de datos"
   ]
  },
  {
   "cell_type": "code",
   "execution_count": 3,
   "id": "2dfa0e50",
   "metadata": {
    "execution": {
     "iopub.execute_input": "2025-07-04T08:28:31.152088Z",
     "iopub.status.busy": "2025-07-04T08:28:31.151845Z",
     "iopub.status.idle": "2025-07-04T08:28:31.191655Z",
     "shell.execute_reply": "2025-07-04T08:28:31.191137Z"
    }
   },
   "outputs": [],
   "source": [
    "url_etl = f\"{cfg_etl['driver']}://{cfg_etl['user']}:{cfg_etl['password']}@{cfg_etl['host']}:{cfg_etl['port']}/{cfg_etl['db']}\"\n",
    "cliente_etl = create_engine(url_etl)"
   ]
  },
  {
   "cell_type": "markdown",
   "id": "8346f01c",
   "metadata": {},
   "source": [
    "# ------------------ Función auxiliar ------------------"
   ]
  },
  {
   "cell_type": "code",
   "execution_count": 4,
   "id": "9f9f32c1",
   "metadata": {
    "execution": {
     "iopub.execute_input": "2025-07-04T08:28:31.193707Z",
     "iopub.status.busy": "2025-07-04T08:28:31.193491Z",
     "iopub.status.idle": "2025-07-04T08:28:31.196811Z",
     "shell.execute_reply": "2025-07-04T08:28:31.196284Z"
    }
   },
   "outputs": [],
   "source": [
    "def guardar_datamart(nombre_tabla, query, engine):\n",
    "    print(f\"Creando DataMart: {nombre_tabla}\")\n",
    "    df = pd.read_sql_query(query, engine)\n",
    "    df.to_sql(nombre_tabla, engine, index=False, if_exists='replace')\n",
    "    print(f\"✔️ {nombre_tabla} guardado correctamente ({len(df)} filas).\")"
   ]
  },
  {
   "cell_type": "markdown",
   "id": "f1b30af7",
   "metadata": {},
   "source": [
    "\n",
    "Este notebook genera tablas agregadas (DataMarts) a partir de las consultas más frecuentes extraídas del proceso ETL.\n",
    "Estas tablas permiten análisis más rápidos al evitar cálculos repetidos sobre las tablas de hechos principales (`fact_servicios` y `fact_novedades`).\n",
    "\n",
    "**Fecha de generación:** 2025-07-04 04:33:07\n"
   ]
  },
  {
   "cell_type": "markdown",
   "id": "a13976ca",
   "metadata": {},
   "source": [
    "### 🧮 resumen_servicios_por_mes"
   ]
  },
  {
   "cell_type": "code",
   "execution_count": 5,
   "id": "d751d4f4",
   "metadata": {
    "execution": {
     "iopub.execute_input": "2025-07-04T08:28:31.198512Z",
     "iopub.status.busy": "2025-07-04T08:28:31.198338Z",
     "iopub.status.idle": "2025-07-04T08:28:34.023399Z",
     "shell.execute_reply": "2025-07-04T08:28:34.022131Z"
    }
   },
   "outputs": [
    {
     "name": "stdout",
     "output_type": "stream",
     "text": [
      "Creando DataMart: resumen_servicios_por_mes\n"
     ]
    },
    {
     "name": "stdout",
     "output_type": "stream",
     "text": [
      "✔️ resumen_servicios_por_mes guardado correctamente (7 filas).\n"
     ]
    }
   ],
   "source": [
    "query = \"\"\"\n",
    "SELECT \"Año\", \"Mes\", COUNT(*) AS total_servicios\n",
    "FROM fact_servicios\n",
    "GROUP BY \"Año\", \"Mes\"\n",
    "ORDER BY total_servicios DESC\n",
    "\"\"\"\n",
    "guardar_datamart(\"resumen_servicios_por_mes\", query, cliente_etl)\n"
   ]
  },
  {
   "cell_type": "markdown",
   "id": "5d1da511",
   "metadata": {},
   "source": [
    "### 🧮 resumen_servicios_por_dia_semana"
   ]
  },
  {
   "cell_type": "code",
   "execution_count": 6,
   "id": "9f50ff0d",
   "metadata": {
    "execution": {
     "iopub.execute_input": "2025-07-04T08:28:34.027937Z",
     "iopub.status.busy": "2025-07-04T08:28:34.027460Z",
     "iopub.status.idle": "2025-07-04T08:28:34.967020Z",
     "shell.execute_reply": "2025-07-04T08:28:34.966404Z"
    }
   },
   "outputs": [
    {
     "name": "stdout",
     "output_type": "stream",
     "text": [
      "Creando DataMart: resumen_servicios_por_dia_semana\n"
     ]
    },
    {
     "name": "stdout",
     "output_type": "stream",
     "text": [
      "✔️ resumen_servicios_por_dia_semana guardado correctamente (7 filas).\n"
     ]
    }
   ],
   "source": [
    "query = \"\"\"\n",
    "SELECT \"DiaSemana\", COUNT(*) AS total_servicios\n",
    "FROM fact_servicios\n",
    "GROUP BY \"DiaSemana\"\n",
    "ORDER BY total_servicios DESC\n",
    "\"\"\"\n",
    "guardar_datamart(\"resumen_servicios_por_dia_semana\", query, cliente_etl)\n"
   ]
  },
  {
   "cell_type": "markdown",
   "id": "e3a77eb5",
   "metadata": {},
   "source": [
    "### 🧮 resumen_actividad_por_hora"
   ]
  },
  {
   "cell_type": "code",
   "execution_count": 7,
   "id": "0ff109ee",
   "metadata": {
    "execution": {
     "iopub.execute_input": "2025-07-04T08:28:34.969993Z",
     "iopub.status.busy": "2025-07-04T08:28:34.969537Z",
     "iopub.status.idle": "2025-07-04T08:28:35.904553Z",
     "shell.execute_reply": "2025-07-04T08:28:35.902365Z"
    }
   },
   "outputs": [
    {
     "name": "stdout",
     "output_type": "stream",
     "text": [
      "Creando DataMart: resumen_actividad_por_hora\n"
     ]
    },
    {
     "name": "stdout",
     "output_type": "stream",
     "text": [
      "✔️ resumen_actividad_por_hora guardado correctamente (16 filas).\n"
     ]
    }
   ],
   "source": [
    "query = \"\"\"\n",
    "SELECT \"Hora\", COUNT(*) AS total_servicios\n",
    "FROM fact_servicios\n",
    "GROUP BY \"Hora\"\n",
    "ORDER BY total_servicios DESC\n",
    "\"\"\"\n",
    "guardar_datamart(\"resumen_actividad_por_hora\", query, cliente_etl)\n"
   ]
  },
  {
   "cell_type": "markdown",
   "id": "2a6ee2f3",
   "metadata": {},
   "source": [
    "### 🧮 servicios_por_cliente_mes"
   ]
  },
  {
   "cell_type": "code",
   "execution_count": 8,
   "id": "9b3ca808",
   "metadata": {
    "execution": {
     "iopub.execute_input": "2025-07-04T08:28:35.909816Z",
     "iopub.status.busy": "2025-07-04T08:28:35.909405Z",
     "iopub.status.idle": "2025-07-04T08:28:36.851226Z",
     "shell.execute_reply": "2025-07-04T08:28:36.849745Z"
    }
   },
   "outputs": [
    {
     "name": "stdout",
     "output_type": "stream",
     "text": [
      "Creando DataMart: servicios_por_cliente_mes\n"
     ]
    },
    {
     "name": "stdout",
     "output_type": "stream",
     "text": [
      "✔️ servicios_por_cliente_mes guardado correctamente (16 filas).\n"
     ]
    }
   ],
   "source": [
    "query = \"\"\"\n",
    "SELECT \n",
    "    fs.\"ClienteKey\",\n",
    "    dc.\"nombre\",\n",
    "    fs.\"Año\",\n",
    "    fs.\"Mes\",\n",
    "    COUNT(*) AS total_servicios\n",
    "FROM fact_servicios fs\n",
    "INNER JOIN dim_cliente dc\n",
    "    ON fs.\"ClienteKey\" = dc.\"ClienteKey\"\n",
    "GROUP BY fs.\"ClienteKey\", dc.\"nombre\", fs.\"Año\", fs.\"Mes\"\n",
    "ORDER BY total_servicios DESC\n",
    "\"\"\"\n",
    "guardar_datamart(\"servicios_por_cliente_mes\", query, cliente_etl)\n"
   ]
  },
  {
   "cell_type": "markdown",
   "id": "0ecffc16",
   "metadata": {},
   "source": [
    "### 🧮 eficiencia_mensajeros"
   ]
  },
  {
   "cell_type": "code",
   "execution_count": 9,
   "id": "2eaee18d",
   "metadata": {
    "execution": {
     "iopub.execute_input": "2025-07-04T08:28:36.855634Z",
     "iopub.status.busy": "2025-07-04T08:28:36.855309Z",
     "iopub.status.idle": "2025-07-04T08:28:37.793539Z",
     "shell.execute_reply": "2025-07-04T08:28:37.792006Z"
    }
   },
   "outputs": [
    {
     "name": "stdout",
     "output_type": "stream",
     "text": [
      "Creando DataMart: eficiencia_mensajeros\n"
     ]
    },
    {
     "name": "stdout",
     "output_type": "stream",
     "text": [
      "✔️ eficiencia_mensajeros guardado correctamente (18 filas).\n"
     ]
    }
   ],
   "source": [
    "query = \"\"\"\n",
    "SELECT \n",
    "    \"MensajeroKey\",\n",
    "    COUNT(*) AS servicios_realizados,\n",
    "    AVG(\"Duracion_Total_Min\") AS duracion_promedio_min,\n",
    "    AVG(\"Eficiencia_Mensajero\") AS eficiencia_promedio\n",
    "FROM fact_servicios\n",
    "GROUP BY \"MensajeroKey\"\n",
    "ORDER BY servicios_realizados DESC, eficiencia_promedio ASC\n",
    "\"\"\"\n",
    "guardar_datamart(\"eficiencia_mensajeros\", query, cliente_etl)\n"
   ]
  },
  {
   "cell_type": "markdown",
   "id": "eb25ddb4",
   "metadata": {},
   "source": [
    "### 🧮 actividad_por_sede_cliente"
   ]
  },
  {
   "cell_type": "code",
   "execution_count": 10,
   "id": "fcc20020",
   "metadata": {
    "execution": {
     "iopub.execute_input": "2025-07-04T08:28:37.798368Z",
     "iopub.status.busy": "2025-07-04T08:28:37.797857Z",
     "iopub.status.idle": "2025-07-04T08:28:38.744749Z",
     "shell.execute_reply": "2025-07-04T08:28:38.743443Z"
    }
   },
   "outputs": [
    {
     "name": "stdout",
     "output_type": "stream",
     "text": [
      "Creando DataMart: actividad_por_sede_cliente\n"
     ]
    },
    {
     "name": "stdout",
     "output_type": "stream",
     "text": [
      "✔️ actividad_por_sede_cliente guardado correctamente (27 filas).\n"
     ]
    }
   ],
   "source": [
    "query = \"\"\"\n",
    "SELECT \n",
    "    fs.\"ClienteKey\",\n",
    "    dc.\"nombre\" AS nombre_cliente,\n",
    "    ds.\"nombre\" AS nombre_sede_origen,\n",
    "    COUNT(*) AS total_servicios\n",
    "FROM fact_servicios fs\n",
    "INNER JOIN dim_cliente dc\n",
    "    ON fs.\"ClienteKey\" = dc.\"ClienteKey\"\n",
    "INNER JOIN dim_sede ds\n",
    "    ON fs.\"SedeOrigenKey\" = ds.\"SedeKey\"\n",
    "GROUP BY fs.\"ClienteKey\", dc.\"nombre\", fs.\"SedeOrigenKey\", ds.\"nombre\"\n",
    "ORDER BY total_servicios DESC\n",
    "\"\"\"\n",
    "guardar_datamart(\"actividad_por_sede_cliente\", query, cliente_etl)\n"
   ]
  },
  {
   "cell_type": "markdown",
   "id": "d023e23b",
   "metadata": {},
   "source": [
    "### 🧮 duracion_promedio_servicio"
   ]
  },
  {
   "cell_type": "code",
   "execution_count": 11,
   "id": "9e82d099",
   "metadata": {
    "execution": {
     "iopub.execute_input": "2025-07-04T08:28:38.746568Z",
     "iopub.status.busy": "2025-07-04T08:28:38.746347Z",
     "iopub.status.idle": "2025-07-04T08:28:39.681243Z",
     "shell.execute_reply": "2025-07-04T08:28:39.679232Z"
    }
   },
   "outputs": [
    {
     "name": "stdout",
     "output_type": "stream",
     "text": [
      "Creando DataMart: duracion_promedio_servicio\n"
     ]
    },
    {
     "name": "stdout",
     "output_type": "stream",
     "text": [
      "✔️ duracion_promedio_servicio guardado correctamente (1 filas).\n"
     ]
    }
   ],
   "source": [
    "query = \"\"\"\n",
    "SELECT \n",
    "    AVG(\"Duracion_Total_Min\") AS tiempo_promedio_total_min\n",
    "FROM fact_servicios\n",
    "\"\"\"\n",
    "guardar_datamart(\"duracion_promedio_servicio\", query, cliente_etl)"
   ]
  },
  {
   "cell_type": "markdown",
   "id": "f43e06c5",
   "metadata": {},
   "source": [
    "### 🧮 duracion_promedio_por_fase"
   ]
  },
  {
   "cell_type": "code",
   "execution_count": 12,
   "id": "407711db",
   "metadata": {
    "execution": {
     "iopub.execute_input": "2025-07-04T08:28:39.683074Z",
     "iopub.status.busy": "2025-07-04T08:28:39.682882Z",
     "iopub.status.idle": "2025-07-04T08:28:40.615602Z",
     "shell.execute_reply": "2025-07-04T08:28:40.613807Z"
    }
   },
   "outputs": [
    {
     "name": "stdout",
     "output_type": "stream",
     "text": [
      "Creando DataMart: duracion_promedio_por_fase\n"
     ]
    },
    {
     "name": "stdout",
     "output_type": "stream",
     "text": [
      "✔️ duracion_promedio_por_fase guardado correctamente (1 filas).\n"
     ]
    }
   ],
   "source": [
    "query = \"\"\"\n",
    "SELECT \n",
    "    AVG(\"Duracion_Asignacion_Min\") AS asignacion_promedio_min,\n",
    "    AVG(\"Duracion_Recogida_Min\") AS recogida_promedio_min,\n",
    "    AVG(\"Duracion_Entrega_Min\") AS entrega_promedio_min,\n",
    "    AVG(\"Duracion_Cierre_Min\") AS cierre_promedio_min\n",
    "FROM fact_servicios\n",
    "\"\"\"\n",
    "guardar_datamart(\"duracion_promedio_por_fase\", query, cliente_etl)"
   ]
  },
  {
   "cell_type": "markdown",
   "id": "84d00d6a",
   "metadata": {},
   "source": [
    "### 🧮 novedades_por_tipo"
   ]
  },
  {
   "cell_type": "code",
   "execution_count": 13,
   "id": "4f7f49de",
   "metadata": {
    "execution": {
     "iopub.execute_input": "2025-07-04T08:28:40.620438Z",
     "iopub.status.busy": "2025-07-04T08:28:40.619758Z",
     "iopub.status.idle": "2025-07-04T08:28:41.578599Z",
     "shell.execute_reply": "2025-07-04T08:28:41.577030Z"
    }
   },
   "outputs": [
    {
     "name": "stdout",
     "output_type": "stream",
     "text": [
      "Creando DataMart: novedades_por_tipo\n"
     ]
    },
    {
     "name": "stdout",
     "output_type": "stream",
     "text": [
      "✔️ novedades_por_tipo guardado correctamente (2 filas).\n"
     ]
    }
   ],
   "source": [
    "query = \"\"\"\n",
    "SELECT \n",
    "    \"TipoNovedad\" AS \"Tipo de Novedad\",\n",
    "    COUNT(*) AS \"Total de Ocurrencias\"\n",
    "FROM fact_novedades\n",
    "GROUP BY \"TipoNovedad\"\n",
    "ORDER BY \"Total de Ocurrencias\" DESC\n",
    "\"\"\"\n",
    "guardar_datamart(\"novedades_por_tipo\", query, cliente_etl)"
   ]
  }
 ],
 "metadata": {
  "kernelspec": {
   "display_name": "Python 3",
   "language": "python",
   "name": "python3"
  },
  "language_info": {
   "codemirror_mode": {
    "name": "ipython",
    "version": 3
   },
   "file_extension": ".py",
   "mimetype": "text/x-python",
   "name": "python",
   "nbconvert_exporter": "python",
   "pygments_lexer": "ipython3",
   "version": "3.12.3"
  }
 },
 "nbformat": 4,
 "nbformat_minor": 5
}
